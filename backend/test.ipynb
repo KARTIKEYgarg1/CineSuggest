{
 "cells": [
  {
   "cell_type": "code",
   "execution_count": 4,
   "metadata": {},
   "outputs": [],
   "source": [
    "import numpy as np\n",
    "import pandas as pd\n",
    "from flask import jsonify, request\n",
    "import requests\n",
    "from googlesearch import search\n",
    "import requests\n",
    "from bs4 import BeautifulSoup\n",
    "import json\n",
    "import pickle"
   ]
  },
  {
   "cell_type": "code",
   "execution_count": 23,
   "metadata": {},
   "outputs": [],
   "source": [
    "def getMoviesFromApi(t_list):\n",
    "  results=[]\n",
    "  apikey=\"a82cd383\"\n",
    "  for imdb_t in t_list:\n",
    "    url = f'http://www.omdbapi.com/?t={imdb_t}&apikey={apikey}'\n",
    "    response = requests.get(url)\n",
    "    if response.status_code == 200:\n",
    "            data = response.json()\n",
    "            results.append({\n",
    "                \"Title\": data[\"Title\"],\n",
    "                \"Plot\": data[\"Plot\"],\n",
    "                \"Poster\": data[\"Poster\"],\n",
    "                \"Ratings\": data[\"Ratings\"]\n",
    "            })\n",
    "  return jsonify(results)"
   ]
  },
  {
   "cell_type": "code",
   "execution_count": 24,
   "metadata": {},
   "outputs": [],
   "source": [
    "def showRecommendations(df,arr,searchString):\n",
    "  movie_id=df[df.Title==searchString].Movie_id.values[0]\n",
    "  scores=list(enumerate(arr[movie_id]))\n",
    "  scores=sorted(scores,key=lambda x:x[1],reverse=True)\n",
    "  #top 4 matches\n",
    "  output=[]\n",
    "  for j in scores[:5]:\n",
    "    output.append(list(df[df.Movie_id==j[0]].Title)[0])\n",
    "  return output\n"
   ]
  },
  {
   "cell_type": "code",
   "execution_count": 27,
   "metadata": {},
   "outputs": [],
   "source": [
    "def search(search_term):\n",
    "    # search_term = request.form.get('searchTerm')\n",
    "    with open('./recommendationSystem/array.bin', 'rb') as file:\n",
    "        bin_data = file.read()\n",
    "    arr = np.frombuffer(bin_data, dtype=np.float64)\n",
    "    arr = arr.reshape((1000, 1000))\n",
    "    df=pd.read_csv(\"./recommendationSystem/finaldata.csv\")\n",
    "    results = showRecommendations(df,arr,search_term)\n",
    "    results = getMoviesFromApi(results)\n",
    "    print(results)\n",
    "    return jsonify(results)"
   ]
  },
  {
   "cell_type": "code",
   "execution_count": 28,
   "metadata": {},
   "outputs": [
    {
     "ename": "RuntimeError",
     "evalue": "Working outside of application context.\n\nThis typically means that you attempted to use functionality that needed\nthe current application. To solve this, set up an application context\nwith app.app_context(). See the documentation for more information.",
     "output_type": "error",
     "traceback": [
      "\u001b[1;31m---------------------------------------------------------------------------\u001b[0m",
      "\u001b[1;31mRuntimeError\u001b[0m                              Traceback (most recent call last)",
      "\u001b[1;32mc:\\Users\\DELL\\Documents\\custom pros\\movie\\backend\\test.ipynb Cell 5\u001b[0m in \u001b[0;36m<cell line: 1>\u001b[1;34m()\u001b[0m\n\u001b[1;32m----> <a href='vscode-notebook-cell:/c%3A/Users/DELL/Documents/custom%20pros/movie/backend/test.ipynb#W6sZmlsZQ%3D%3D?line=0'>1</a>\u001b[0m search(\u001b[39m\"\u001b[39;49m\u001b[39mThe Twilight Saga: Breaking Dawn - Part 2\u001b[39;49m\u001b[39m\"\u001b[39;49m)\n",
      "\u001b[1;32mc:\\Users\\DELL\\Documents\\custom pros\\movie\\backend\\test.ipynb Cell 5\u001b[0m in \u001b[0;36msearch\u001b[1;34m(search_term)\u001b[0m\n\u001b[0;32m      <a href='vscode-notebook-cell:/c%3A/Users/DELL/Documents/custom%20pros/movie/backend/test.ipynb#W6sZmlsZQ%3D%3D?line=6'>7</a>\u001b[0m df\u001b[39m=\u001b[39mpd\u001b[39m.\u001b[39mread_csv(\u001b[39m\"\u001b[39m\u001b[39m./recommendationSystem/finaldata.csv\u001b[39m\u001b[39m\"\u001b[39m)\n\u001b[0;32m      <a href='vscode-notebook-cell:/c%3A/Users/DELL/Documents/custom%20pros/movie/backend/test.ipynb#W6sZmlsZQ%3D%3D?line=7'>8</a>\u001b[0m results \u001b[39m=\u001b[39m showRecommendations(df,arr,search_term)\n\u001b[1;32m----> <a href='vscode-notebook-cell:/c%3A/Users/DELL/Documents/custom%20pros/movie/backend/test.ipynb#W6sZmlsZQ%3D%3D?line=8'>9</a>\u001b[0m results \u001b[39m=\u001b[39m getMoviesFromApi(results)\n\u001b[0;32m     <a href='vscode-notebook-cell:/c%3A/Users/DELL/Documents/custom%20pros/movie/backend/test.ipynb#W6sZmlsZQ%3D%3D?line=9'>10</a>\u001b[0m \u001b[39mprint\u001b[39m(results)\n\u001b[0;32m     <a href='vscode-notebook-cell:/c%3A/Users/DELL/Documents/custom%20pros/movie/backend/test.ipynb#W6sZmlsZQ%3D%3D?line=10'>11</a>\u001b[0m \u001b[39mreturn\u001b[39;00m jsonify(results)\n",
      "\u001b[1;32mc:\\Users\\DELL\\Documents\\custom pros\\movie\\backend\\test.ipynb Cell 5\u001b[0m in \u001b[0;36mgetMoviesFromApi\u001b[1;34m(t_list)\u001b[0m\n\u001b[0;32m      <a href='vscode-notebook-cell:/c%3A/Users/DELL/Documents/custom%20pros/movie/backend/test.ipynb#W6sZmlsZQ%3D%3D?line=7'>8</a>\u001b[0m           data \u001b[39m=\u001b[39m response\u001b[39m.\u001b[39mjson()\n\u001b[0;32m      <a href='vscode-notebook-cell:/c%3A/Users/DELL/Documents/custom%20pros/movie/backend/test.ipynb#W6sZmlsZQ%3D%3D?line=8'>9</a>\u001b[0m           results\u001b[39m.\u001b[39mappend({\n\u001b[0;32m     <a href='vscode-notebook-cell:/c%3A/Users/DELL/Documents/custom%20pros/movie/backend/test.ipynb#W6sZmlsZQ%3D%3D?line=9'>10</a>\u001b[0m               \u001b[39m\"\u001b[39m\u001b[39mTitle\u001b[39m\u001b[39m\"\u001b[39m: data[\u001b[39m\"\u001b[39m\u001b[39mTitle\u001b[39m\u001b[39m\"\u001b[39m],\n\u001b[0;32m     <a href='vscode-notebook-cell:/c%3A/Users/DELL/Documents/custom%20pros/movie/backend/test.ipynb#W6sZmlsZQ%3D%3D?line=10'>11</a>\u001b[0m               \u001b[39m\"\u001b[39m\u001b[39mPlot\u001b[39m\u001b[39m\"\u001b[39m: data[\u001b[39m\"\u001b[39m\u001b[39mPlot\u001b[39m\u001b[39m\"\u001b[39m],\n\u001b[0;32m     <a href='vscode-notebook-cell:/c%3A/Users/DELL/Documents/custom%20pros/movie/backend/test.ipynb#W6sZmlsZQ%3D%3D?line=11'>12</a>\u001b[0m               \u001b[39m\"\u001b[39m\u001b[39mPoster\u001b[39m\u001b[39m\"\u001b[39m: data[\u001b[39m\"\u001b[39m\u001b[39mPoster\u001b[39m\u001b[39m\"\u001b[39m],\n\u001b[0;32m     <a href='vscode-notebook-cell:/c%3A/Users/DELL/Documents/custom%20pros/movie/backend/test.ipynb#W6sZmlsZQ%3D%3D?line=12'>13</a>\u001b[0m               \u001b[39m\"\u001b[39m\u001b[39mRatings\u001b[39m\u001b[39m\"\u001b[39m: data[\u001b[39m\"\u001b[39m\u001b[39mRatings\u001b[39m\u001b[39m\"\u001b[39m]\n\u001b[0;32m     <a href='vscode-notebook-cell:/c%3A/Users/DELL/Documents/custom%20pros/movie/backend/test.ipynb#W6sZmlsZQ%3D%3D?line=13'>14</a>\u001b[0m           })\n\u001b[1;32m---> <a href='vscode-notebook-cell:/c%3A/Users/DELL/Documents/custom%20pros/movie/backend/test.ipynb#W6sZmlsZQ%3D%3D?line=14'>15</a>\u001b[0m \u001b[39mreturn\u001b[39;00m jsonify(results)\n",
      "File \u001b[1;32mc:\\Users\\DELL\\AppData\\Local\\Programs\\Python\\Python310\\lib\\site-packages\\flask\\json\\__init__.py:342\u001b[0m, in \u001b[0;36mjsonify\u001b[1;34m(*args, **kwargs)\u001b[0m\n\u001b[0;32m    310\u001b[0m \u001b[39mdef\u001b[39;00m \u001b[39mjsonify\u001b[39m(\u001b[39m*\u001b[39margs: t\u001b[39m.\u001b[39mAny, \u001b[39m*\u001b[39m\u001b[39m*\u001b[39mkwargs: t\u001b[39m.\u001b[39mAny) \u001b[39m-\u001b[39m\u001b[39m>\u001b[39m Response:\n\u001b[0;32m    311\u001b[0m     \u001b[39m\"\"\"Serialize the given arguments as JSON, and return a\u001b[39;00m\n\u001b[0;32m    312\u001b[0m \u001b[39m    :class:`~flask.Response` object with the ``application/json``\u001b[39;00m\n\u001b[0;32m    313\u001b[0m \u001b[39m    mimetype. A dict or list returned from a view will be converted to a\u001b[39;00m\n\u001b[1;32m   (...)\u001b[0m\n\u001b[0;32m    340\u001b[0m \u001b[39m    .. versionadded:: 0.2\u001b[39;00m\n\u001b[0;32m    341\u001b[0m \u001b[39m    \"\"\"\u001b[39;00m\n\u001b[1;32m--> 342\u001b[0m     \u001b[39mreturn\u001b[39;00m current_app\u001b[39m.\u001b[39;49mjson\u001b[39m.\u001b[39mresponse(\u001b[39m*\u001b[39margs, \u001b[39m*\u001b[39m\u001b[39m*\u001b[39mkwargs)\n",
      "File \u001b[1;32mc:\\Users\\DELL\\AppData\\Local\\Programs\\Python\\Python310\\lib\\site-packages\\werkzeug\\local.py:316\u001b[0m, in \u001b[0;36m_ProxyLookup.__get__\u001b[1;34m(self, instance, owner)\u001b[0m\n\u001b[0;32m    313\u001b[0m     \u001b[39mreturn\u001b[39;00m \u001b[39mself\u001b[39m\n\u001b[0;32m    315\u001b[0m \u001b[39mtry\u001b[39;00m:\n\u001b[1;32m--> 316\u001b[0m     obj \u001b[39m=\u001b[39m instance\u001b[39m.\u001b[39;49m_get_current_object()  \u001b[39m# type: ignore[misc]\u001b[39;00m\n\u001b[0;32m    317\u001b[0m \u001b[39mexcept\u001b[39;00m \u001b[39mRuntimeError\u001b[39;00m:\n\u001b[0;32m    318\u001b[0m     \u001b[39mif\u001b[39;00m \u001b[39mself\u001b[39m\u001b[39m.\u001b[39mfallback \u001b[39mis\u001b[39;00m \u001b[39mNone\u001b[39;00m:\n",
      "File \u001b[1;32mc:\\Users\\DELL\\AppData\\Local\\Programs\\Python\\Python310\\lib\\site-packages\\werkzeug\\local.py:513\u001b[0m, in \u001b[0;36mLocalProxy.__init__.<locals>._get_current_object\u001b[1;34m()\u001b[0m\n\u001b[0;32m    511\u001b[0m     obj \u001b[39m=\u001b[39m local\u001b[39m.\u001b[39mget()  \u001b[39m# type: ignore[union-attr]\u001b[39;00m\n\u001b[0;32m    512\u001b[0m \u001b[39mexcept\u001b[39;00m \u001b[39mLookupError\u001b[39;00m:\n\u001b[1;32m--> 513\u001b[0m     \u001b[39mraise\u001b[39;00m \u001b[39mRuntimeError\u001b[39;00m(unbound_message) \u001b[39mfrom\u001b[39;00m \u001b[39mNone\u001b[39m\n\u001b[0;32m    515\u001b[0m \u001b[39mreturn\u001b[39;00m get_name(obj)\n",
      "\u001b[1;31mRuntimeError\u001b[0m: Working outside of application context.\n\nThis typically means that you attempted to use functionality that needed\nthe current application. To solve this, set up an application context\nwith app.app_context(). See the documentation for more information."
     ]
    }
   ],
   "source": [
    "search(\"The Twilight Saga: Breaking Dawn - Part 2\")"
   ]
  },
  {
   "cell_type": "code",
   "execution_count": null,
   "metadata": {},
   "outputs": [],
   "source": []
  }
 ],
 "metadata": {
  "kernelspec": {
   "display_name": "Python 3.10.5 64-bit",
   "language": "python",
   "name": "python3"
  },
  "language_info": {
   "codemirror_mode": {
    "name": "ipython",
    "version": 3
   },
   "file_extension": ".py",
   "mimetype": "text/x-python",
   "name": "python",
   "nbconvert_exporter": "python",
   "pygments_lexer": "ipython3",
   "version": "3.10.5"
  },
  "orig_nbformat": 4,
  "vscode": {
   "interpreter": {
    "hash": "fbc768028c3e6ead51d9a200ddcb2ec858ae62844dcd1994729a8279be9b48f2"
   }
  }
 },
 "nbformat": 4,
 "nbformat_minor": 2
}
